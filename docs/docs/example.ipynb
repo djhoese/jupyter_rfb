{
 "cells": [
  {
   "cell_type": "markdown",
   "id": "f6315c1a",
   "metadata": {},
   "source": [
    "# Example\n",
    "\n",
    "This page shows a few code examples using jupyter_rfb. Note that you need a server to generate the images (that's the whole point), so the output is not shown here.\n",
    "\n",
    "Also see the [examples in the Github repo](https://github.com/vispy/jupyter_rfb/tree/main/examples)."
   ]
  },
  {
   "cell_type": "code",
   "execution_count": null,
   "id": "eb328d8f",
   "metadata": {},
   "outputs": [],
   "source": [
    "import numpy as np\n",
    "import jupyter_rfb"
   ]
  },
  {
   "cell_type": "markdown",
   "id": "c392947c",
   "metadata": {},
   "source": [
    "In this first example, we implement `get_frame()` to produce an image."
   ]
  },
  {
   "cell_type": "code",
   "execution_count": null,
   "id": "7691480a",
   "metadata": {},
   "outputs": [],
   "source": [
    "class HelloWorld1(jupyter_rfb.RemoteFrameBuffer):\n",
    "\n",
    "    def get_frame(self):\n",
    "        a = np.zeros((100, 100, 3), np.uint8)\n",
    "        a[20:-20,20:-20,1] = 255\n",
    "        return a\n",
    "\n",
    "w = HelloWorld1()\n",
    "w"
   ]
  },
  {
   "cell_type": "markdown",
   "id": "e3ac19ee",
   "metadata": {},
   "source": [
    "Let's make it a bit more advanced, by keeping track of the widget size, so that we can provide an array with matching shape. We also take pixel_ratio into account, in case this is a hidpi display, or when the user has used the browser's zoom."
   ]
  },
  {
   "cell_type": "code",
   "execution_count": null,
   "id": "45578bd6",
   "metadata": {},
   "outputs": [],
   "source": [
    "class HelloWorld2(jupyter_rfb.RemoteFrameBuffer):\n",
    "    \n",
    "    def handle_event(self, event):\n",
    "        if event[\"event_type\"] == \"resize\":\n",
    "            self._size = event\n",
    "        \n",
    "    def get_frame(self):\n",
    "        w, h, r = self._size[\"width\"], self._size[\"height\"], self._size[\"pixel_ratio\"]\n",
    "        physical_size = int(h*r), int(w*r)\n",
    "        a = np.zeros((physical_size[0], physical_size[1], 3), np.uint8)\n",
    "        margin = int(20 * r)\n",
    "        a[margin:-margin,margin:-margin,1] = 255\n",
    "        return a\n",
    "\n",
    "w = HelloWorld2(css_width='400px')\n",
    "w"
   ]
  },
  {
   "cell_type": "markdown",
   "id": "1e3edd8f",
   "metadata": {},
   "source": [
    "Let's wrap this up with a simple drawing app."
   ]
  },
  {
   "cell_type": "code",
   "execution_count": null,
   "id": "6e57e73e",
   "metadata": {},
   "outputs": [],
   "source": [
    "class Drawingapp(jupyter_rfb.RemoteFrameBuffer):\n",
    "    \n",
    "    def __init__(self, **kwargs):\n",
    "        super().__init__(**kwargs)\n",
    "        self.array = np.zeros((1, 1, 4), np.uint8)\n",
    "        self.pen_colors = [(1, 0.2, 0, 1), (0, 1, 0.2, 1), (0.2, 0, 1, 1)]\n",
    "        self.pen_index = 0        \n",
    "    \n",
    "    def handle_event(self, event):\n",
    "        event_type = event.get(\"event_type\", None)\n",
    "        if event_type == \"resize\":\n",
    "            # Take pixel ratio into account, use 8x less pixels (in each dim)\n",
    "            self.pixel_ratio = event[\"pixel_ratio\"] / 8\n",
    "            w = int(event[\"width\"] * self.pixel_ratio)\n",
    "            h = int(event[\"height\"] * self.pixel_ratio)\n",
    "            self.array = np.zeros((h, w, 4), np.uint8)\n",
    "        if event_type == \"pointer_down\":\n",
    "            if event[\"button\"] == 1:\n",
    "                # Draw\n",
    "                x = int(event[\"x\"] * self.pixel_ratio)\n",
    "                y = int(event[\"y\"] * self.pixel_ratio)\n",
    "                self.array[y, x] = 255 * np.array(self.pen_colors[self.pen_index])\n",
    "                self.request_draw()\n",
    "            elif event[\"button\"] == 2:\n",
    "                # Toggle color\n",
    "                self.pen_index = (self.pen_index + 1) % len(self.pen_colors)\n",
    "    \n",
    "    def get_frame(self):\n",
    "        return self.array\n",
    "\n",
    "w = Drawingapp(css_width=\"600px\", css_height=\"400px\")\n",
    "w"
   ]
  }
 ],
 "metadata": {
  "kernelspec": {
   "display_name": "Python 3",
   "language": "python",
   "name": "python3"
  },
  "language_info": {
   "codemirror_mode": {
    "name": "ipython",
    "version": 3
   },
   "file_extension": ".py",
   "mimetype": "text/x-python",
   "name": "python",
   "nbconvert_exporter": "python",
   "pygments_lexer": "ipython3",
   "version": "3.9.1"
  }
 },
 "nbformat": 4,
 "nbformat_minor": 5
}
